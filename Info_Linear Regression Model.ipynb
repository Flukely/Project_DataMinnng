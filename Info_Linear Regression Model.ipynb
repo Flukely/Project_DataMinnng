{
 "cells": [
  {
   "cell_type": "markdown",
   "metadata": {},
   "source": [
    "# การทำนายด้วย Linear Regression Model"
   ]
  },
  {
   "cell_type": "code",
   "execution_count": 3,
   "metadata": {
    "vscode": {
     "languageId": "powershell"
    }
   },
   "outputs": [
    {
     "name": "stdout",
     "output_type": "stream",
     "text": [
      "Requirement already satisfied: Flask in c:\\users\\user\\anaconda3\\lib\\site-packages (2.2.2)\n",
      "Requirement already satisfied: pandas in c:\\users\\user\\anaconda3\\lib\\site-packages (2.0.3)\n",
      "Requirement already satisfied: scikit-learn in c:\\users\\user\\anaconda3\\lib\\site-packages (1.5.2)\n",
      "Requirement already satisfied: openpyxl in c:\\users\\user\\anaconda3\\lib\\site-packages (3.0.10)\n",
      "Requirement already satisfied: Werkzeug>=2.2.2 in c:\\users\\user\\anaconda3\\lib\\site-packages (from Flask) (2.2.3)\n",
      "Requirement already satisfied: Jinja2>=3.0 in c:\\users\\user\\anaconda3\\lib\\site-packages (from Flask) (3.1.2)\n",
      "Requirement already satisfied: itsdangerous>=2.0 in c:\\users\\user\\anaconda3\\lib\\site-packages (from Flask) (2.0.1)\n",
      "Requirement already satisfied: click>=8.0 in c:\\users\\user\\anaconda3\\lib\\site-packages (from Flask) (8.0.4)\n",
      "Requirement already satisfied: python-dateutil>=2.8.2 in c:\\users\\user\\anaconda3\\lib\\site-packages (from pandas) (2.8.2)\n",
      "Requirement already satisfied: pytz>=2020.1 in c:\\users\\user\\anaconda3\\lib\\site-packages (from pandas) (2023.3.post1)\n",
      "Requirement already satisfied: tzdata>=2022.1 in c:\\users\\user\\anaconda3\\lib\\site-packages (from pandas) (2023.3)\n",
      "Requirement already satisfied: numpy>=1.21.0 in c:\\users\\user\\anaconda3\\lib\\site-packages (from pandas) (1.24.3)\n",
      "Requirement already satisfied: scipy>=1.6.0 in c:\\users\\user\\anaconda3\\lib\\site-packages (from scikit-learn) (1.11.1)\n",
      "Requirement already satisfied: joblib>=1.2.0 in c:\\users\\user\\anaconda3\\lib\\site-packages (from scikit-learn) (1.2.0)\n",
      "Requirement already satisfied: threadpoolctl>=3.1.0 in c:\\users\\user\\anaconda3\\lib\\site-packages (from scikit-learn) (3.5.0)\n",
      "Requirement already satisfied: et_xmlfile in c:\\users\\user\\anaconda3\\lib\\site-packages (from openpyxl) (1.1.0)\n",
      "Requirement already satisfied: colorama in c:\\users\\user\\anaconda3\\lib\\site-packages (from click>=8.0->Flask) (0.4.6)\n",
      "Requirement already satisfied: MarkupSafe>=2.0 in c:\\users\\user\\anaconda3\\lib\\site-packages (from Jinja2>=3.0->Flask) (2.1.1)\n",
      "Requirement already satisfied: six>=1.5 in c:\\users\\user\\anaconda3\\lib\\site-packages (from python-dateutil>=2.8.2->pandas) (1.16.0)\n",
      "Note: you may need to restart the kernel to use updated packages.\n"
     ]
    }
   ],
   "source": [
    "pip install Flask pandas scikit-learn openpyxl"
   ]
  },
  {
   "cell_type": "code",
   "execution_count": 4,
   "metadata": {},
   "outputs": [
    {
     "name": "stdout",
     "output_type": "stream",
     "text": [
      "Mean Absolute Error (MAE): 0.07477904713779493\n",
      "Mean Squared Error (MSE): 0.008760694535345524\n",
      "R-Squared: 0.9331476432989072\n"
     ]
    }
   ],
   "source": [
    "from flask import Flask, render_template, request, jsonify\n",
    "import pandas as pd\n",
    "import numpy as np\n",
    "from sklearn.model_selection import train_test_split\n",
    "from sklearn.linear_model import LinearRegression\n",
    "from sklearn.metrics import mean_squared_error, r2_score\n",
    "from sklearn.metrics import mean_absolute_error\n",
    "\n",
    "# สร้างแอปพลิเคชัน Flask\n",
    "app = Flask(__name__)\n",
    "\n",
    "# โหลดข้อมูลจากไฟล์ Excel\n",
    "df = pd.read_csv('DataComsci.csv')\n",
    "\n",
    "# ขั้นตอนที่ 1: เตรียมข้อมูล\n",
    "# แปลงเกรดเป็นค่าตัวเลข\n",
    "grade_mapping = {'A': 4.0, 'B+': 3.5, 'B': 3.0, 'C+': 2.5, 'C': 2.0, 'D+': 1.5, 'D': 1.0, 'F': 0.0}\n",
    "df.replace(grade_mapping, inplace=True)\n",
    "\n",
    "# แทนค่าที่หายไปด้วยค่าเฉลี่ยของแต่ละคอลัมน์สำหรับคอลัมน์ตัวเลข\n",
    "df.fillna(df.mean(numeric_only=True), inplace=True)\n",
    "\n",
    "# เลือกฟีเจอร์ที่เกี่ยวข้อง (รายวิชาที่จะใช้ทำนาย GPA)\n",
    "features = [\n",
    "        'CalculusforScience', 'FundamentalsOfProgramming', 'HistoryAndDevelopmentOfComputerTechnology',\n",
    "        'MathematicsForScience', 'ObjectOrientedProgramming', 'ThaiLanguageSkills',\n",
    "        'PoliticsEconomyandSociety', 'PhilosophyOfScience', 'ManAndEnvironment',\n",
    "        'LifeSkills', 'LanguageSocietyAndCulture', 'EnglishCriticalReadingForEffectiveCommunication',\n",
    "        'ComputerArchitecture', 'DataStructure', 'DatabaseSystems',\n",
    "        'DiscreteMathematicsForComputerScience', 'LinearAlgebraAndApplications',\n",
    "        'OperatingSystems', 'StatisticalAnalysis', 'EnglishWritingForEffectiveCommunication',\n",
    "        'AlgorithmDesignandAnalysis', 'ArtificialIntelligence', 'ComputerNetworkAndDataCommunication',\n",
    "        'Seminar', 'SoftwareEngineering', 'DataMiningTechniques', \n",
    "        'MobileApplicationDevelopment', 'MultimediaAnd WebTechnology', \n",
    "        'SensingAndActuationForInternetOfThings','SystemAnalysisAndDesign'\n",
    "]\n",
    "\n",
    "X = df[features]  # สร้าง DataFrame สำหรับฟีเจอร์\n",
    "\n",
    "# ตัวแปรเป้าหมาย (GPA)\n",
    "y = df['GPAgraduate']\n",
    "\n",
    "# ขั้นตอนที่ 2: แบ่งข้อมูลเป็นชุดฝึกและชุดทดสอบ\n",
    "X_train, X_test, y_train, y_test = train_test_split(X, y, test_size=0.2, random_state=42)\n",
    "\n",
    "# ขั้นตอนที่ 3: สร้างโมเดล Linear Regression และฝึกสอนมัน\n",
    "model = LinearRegression()\n",
    "model.fit(X_train, y_train)\n",
    "\n",
    "# ขั้นตอนที่ 4: ทำนายโดยใช้ชุดทดสอบ\n",
    "y_pred = model.predict(X_test)\n",
    "\n",
    "# ขั้นตอนที่ 5: ประเมินผลโมเดล\n",
    "mse = mean_squared_error(y_test, y_pred)  # คำนวณ Mean Squared Error\n",
    "r2 = r2_score(y_test, y_pred)  # คำนวณ R-Squared\n",
    "mae = mean_absolute_error(y_test, y_pred)# คำนวณค่า MAE\n",
    "\n",
    "# แสดงผลลัพธ์\n",
    "print(f'Mean Absolute Error (MAE): {mae}')\n",
    "print(f'Mean Squared Error (MSE): {mse}')\n",
    "print(f'R-Squared: {r2}')\n"
   ]
  },
  {
   "cell_type": "markdown",
   "metadata": {},
   "source": [
    "### จะได้ค่าหลังจากการเทรนโมเดลได้ดังด้านบน"
   ]
  },
  {
   "cell_type": "markdown",
   "metadata": {},
   "source": [
    "# การใช้งานโปรแกรม"
   ]
  },
  {
   "cell_type": "markdown",
   "metadata": {},
   "source": [
    "### 1. เปิดไฟล์ launch_app.py และรันโปรแกรม (ตรวจสอบให้มั่นใจว่ามีไฟล์ DataComsci.csv และ โฟลเดอร์ templates ที่มีไฟล์ index.html ทั้งสองอยู่ในโฟล์เดอร์เดียวกับไฟล์นี้)"
   ]
  },
  {
   "cell_type": "markdown",
   "metadata": {},
   "source": [
    "### 2. จะปรากฎหน้าต่างใน Command Prompt หรือ Terminal ขึ้นมา แล้วมองหา \n",
    "### * Running on http://127.0.0.1:5000 จากนั้นนำ url ไปเปิดบนเว็ปได้เลย\n"
   ]
  }
 ],
 "metadata": {
  "kernelspec": {
   "display_name": "base",
   "language": "python",
   "name": "python3"
  },
  "language_info": {
   "codemirror_mode": {
    "name": "ipython",
    "version": 3
   },
   "file_extension": ".py",
   "mimetype": "text/x-python",
   "name": "python",
   "nbconvert_exporter": "python",
   "pygments_lexer": "ipython3",
   "version": "3.11.5"
  }
 },
 "nbformat": 4,
 "nbformat_minor": 2
}

{
 "cells": [
  {
   "cell_type": "markdown",
   "metadata": {},
   "source": [
    "# การทำนายด้วย Linear Regression Model"
   ]
  },
  {
   "cell_type": "code",
   "execution_count": null,
   "metadata": {
    "vscode": {
     "languageId": "powershell"
    }
   },
   "outputs": [],
   "source": [
    "pip install Flask pandas scikit-learn openpyxl"
   ]
  },
  {
   "cell_type": "code",
   "execution_count": null,
   "metadata": {},
   "outputs": [],
   "source": [
    "from flask import Flask, render_template, request, jsonify\n",
    "import pandas as pd\n",
    "import numpy as np\n",
    "from sklearn.model_selection import train_test_split\n",
    "from sklearn.linear_model import LinearRegression\n",
    "from sklearn.metrics import mean_squared_error, r2_score\n",
    "\n",
    "# สร้างแอปพลิเคชัน Flask\n",
    "app = Flask(__name__)\n",
    "\n",
    "# โหลดข้อมูลจากไฟล์ Excel\n",
    "df = pd.read_csv('DataComsci.csv')\n",
    "\n",
    "# ขั้นตอนที่ 1: เตรียมข้อมูล\n",
    "# แปลงเกรดเป็นค่าตัวเลข\n",
    "grade_mapping = {'A': 4.0, 'B+': 3.5, 'B': 3.0, 'C+': 2.5, 'C': 2.0, 'D+': 1.5, 'D': 1.0, 'F': 0.0}\n",
    "df.replace(grade_mapping, inplace=True)\n",
    "\n",
    "# แทนค่าที่หายไปด้วยค่าเฉลี่ยของแต่ละคอลัมน์สำหรับคอลัมน์ตัวเลข\n",
    "df.fillna(df.mean(numeric_only=True), inplace=True)\n",
    "\n",
    "# เลือกฟีเจอร์ที่เกี่ยวข้อง (รายวิชาที่จะใช้ทำนาย GPA)\n",
    "features = [\n",
    "        'CalculusforScience', 'FundamentalsOfProgramming', 'HistoryAndDevelopmentOfComputerTechnology',\n",
    "        'MathematicsForScience', 'ObjectOrientedProgramming', 'ThaiLanguageSkills',\n",
    "        'PoliticsEconomyandSociety', 'PhilosophyOfScience', 'ManAndEnvironment',\n",
    "        'LifeSkills', 'LanguageSocietyAndCulture', 'EnglishCriticalReadingForEffectiveCommunication',\n",
    "        'ComputerArchitecture', 'DataStructure', 'DatabaseSystems',\n",
    "        'DiscreteMathematicsForComputerScience', 'LinearAlgebraAndApplications',\n",
    "        'OperatingSystems', 'StatisticalAnalysis', 'EnglishWritingForEffectiveCommunication',\n",
    "        'AlgorithmDesignandAnalysis', 'ArtificialIntelligence', 'ComputerNetworkAndDataCommunication',\n",
    "        'Seminar', 'SoftwareEngineering', 'DataMiningTechniques', \n",
    "        'MobileApplicationDevelopment', 'MultimediaAnd WebTechnology', \n",
    "        'SensingAndActuationForInternetOfThings','SystemAnalysisAndDesign'\n",
    "]\n",
    "\n",
    "X = df[features]  # สร้าง DataFrame สำหรับฟีเจอร์\n",
    "\n",
    "# ตัวแปรเป้าหมาย (GPA)\n",
    "y = df['GPAgraduate']\n",
    "\n",
    "# ขั้นตอนที่ 2: แบ่งข้อมูลเป็นชุดฝึกและชุดทดสอบ\n",
    "X_train, X_test, y_train, y_test = train_test_split(X, y, test_size=0.2, random_state=42)\n",
    "\n",
    "# ขั้นตอนที่ 3: สร้างโมเดล Linear Regression และฝึกสอนมัน\n",
    "model = LinearRegression()\n",
    "model.fit(X_train, y_train)\n",
    "\n",
    "# ขั้นตอนที่ 4: ทำนายโดยใช้ชุดทดสอบ\n",
    "y_pred = model.predict(X_test)\n",
    "\n",
    "# ขั้นตอนที่ 5: ประเมินผลโมเดล\n",
    "mse = mean_squared_error(y_test, y_pred)  # คำนวณ Mean Squared Error\n",
    "r2 = r2_score(y_test, y_pred)  # คำนวณ R-Squared\n",
    "\n",
    "# แสดงผลลัพธ์\n",
    "print(f'Mean Squared Error (MSE): {mse}')\n",
    "print(f'R-Squared: {r2}')\n"
   ]
  },
  {
   "cell_type": "markdown",
   "metadata": {},
   "source": [
    "### จะได้ค่าหลังจากการเทรนโมเดลได้ดังด้านบน"
   ]
  },
  {
   "cell_type": "markdown",
   "metadata": {},
   "source": [
    "# การใช้งานโปรแกรม"
   ]
  },
  {
   "cell_type": "markdown",
   "metadata": {},
   "source": [
    "### 1. เปิดไฟล์ launch_app.py และรันโปรแกรม (ตรวจสอบให้มั่นใจว่ามีไฟล์ DataComsci.csv และ โฟลเดอร์ templates ที่มีไฟล์ index.html ทั้งสองอยู่ในโฟล์เดอร์เดียวกับไฟล์นี้)"
   ]
  },
  {
   "cell_type": "markdown",
   "metadata": {},
   "source": [
    "### 2. จะปรากฎหน้าต่างใน Command Prompt หรือ Terminal ขึ้นมา แล้วมองหา \n",
    "### * Running on http://127.0.0.1:5000 จากนั้นนำ url ไปเปิดบนเว็ปได้เลย\n"
   ]
  }
 ],
 "metadata": {
  "kernelspec": {
   "display_name": "base",
   "language": "python",
   "name": "python3"
  },
  "language_info": {
   "codemirror_mode": {
    "name": "ipython",
    "version": 3
   },
   "file_extension": ".py",
   "mimetype": "text/x-python",
   "name": "python",
   "nbconvert_exporter": "python",
   "pygments_lexer": "ipython3",
   "version": "3.11.5"
  }
 },
 "nbformat": 4,
 "nbformat_minor": 2
}
